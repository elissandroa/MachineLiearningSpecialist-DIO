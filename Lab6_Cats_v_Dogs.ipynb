{
  "nbformat": 4,
  "nbformat_minor": 0,
  "metadata": {
    "colab": {
      "provenance": [],
      "authorship_tag": "ABX9TyP0DrwGYJKvbCXF90uNiwW1",
      "include_colab_link": true
    },
    "kernelspec": {
      "name": "python3",
      "display_name": "Python 3"
    },
    "language_info": {
      "name": "python"
    }
  },
  "cells": [
    {
      "cell_type": "markdown",
      "metadata": {
        "id": "view-in-github",
        "colab_type": "text"
      },
      "source": [
        "<a href=\"https://colab.research.google.com/github/elissandroa/MachineLiearningSpecialist-DIO/blob/main/Lab6_Cats_v_Dogs.ipynb\" target=\"_parent\"><img src=\"https://colab.research.google.com/assets/colab-badge.svg\" alt=\"Open In Colab\"/></a>"
      ]
    },
    {
      "cell_type": "code",
      "execution_count": 14,
      "metadata": {
        "id": "qZXaL4G-sKKy"
      },
      "outputs": [],
      "source": [
        "import os\n",
        "import zipfile\n",
        "import random\n",
        "import tensorflow as tf\n",
        "from tensorflow.keras.optimizers import RMSprop\n",
        "from tensorflow.keras.preprocessing.image import ImageDataGenerator\n",
        "from shutil import copyfile"
      ]
    },
    {
      "cell_type": "code",
      "source": [
        "!wget --no-check-certificate \\\n",
        "\"https://download.microsoft.com/download/3/E/1/3E1C3F21-ECDB-4869-8368-6DEBA77B919F/kagglecatsanddogs_5340.zip\" \\\n",
        "-O \"/tmp/cats-and-dogs.zip\"\n",
        "local_zip = '/tmp/cats-and-dogs.zip'\n",
        "zip_ref = zipfile.ZipFile(local_zip, 'r')\n",
        "zip_ref.extractall('/tmp')\n",
        "zip_ref.close()"
      ],
      "metadata": {
        "colab": {
          "base_uri": "https://localhost:8080/",
          "height": 0
        },
        "id": "2NA9o9xbsryh",
        "outputId": "e1308960-a12b-42ef-89b1-4ec188fe8085"
      },
      "execution_count": 15,
      "outputs": [
        {
          "output_type": "stream",
          "name": "stdout",
          "text": [
            "--2023-08-18 21:25:40--  https://download.microsoft.com/download/3/E/1/3E1C3F21-ECDB-4869-8368-6DEBA77B919F/kagglecatsanddogs_5340.zip\n",
            "Resolving download.microsoft.com (download.microsoft.com)... 23.33.137.47, 2600:1402:1400:289::317f, 2600:1402:1400:28d::317f\n",
            "Connecting to download.microsoft.com (download.microsoft.com)|23.33.137.47|:443... connected.\n",
            "HTTP request sent, awaiting response... 200 OK\n",
            "Length: 824887076 (787M) [application/octet-stream]\n",
            "Saving to: ‘/tmp/cats-and-dogs.zip’\n",
            "\n",
            "/tmp/cats-and-dogs. 100%[===================>] 786.67M  81.1MB/s    in 11s     \n",
            "\n",
            "2023-08-18 21:25:51 (74.3 MB/s) - ‘/tmp/cats-and-dogs.zip’ saved [824887076/824887076]\n",
            "\n"
          ]
        }
      ]
    },
    {
      "cell_type": "code",
      "source": [
        "print(len(os.listdir('/tmp/PetImages/Cat/')))\n",
        "print(len(os.listdir('/tmp/PetImages/Dog/')))\n",
        "\n",
        "#Expected Output:\n",
        "#12501\n",
        "#12501"
      ],
      "metadata": {
        "colab": {
          "base_uri": "https://localhost:8080/",
          "height": 0
        },
        "id": "Mj8g_Oy3Efxx",
        "outputId": "49502bfb-696e-41bf-e0e7-347691280c6e"
      },
      "execution_count": 16,
      "outputs": [
        {
          "output_type": "stream",
          "name": "stdout",
          "text": [
            "12501\n",
            "12501\n"
          ]
        }
      ]
    },
    {
      "cell_type": "code",
      "source": [
        "try:\n",
        "    os.mkdir('/tmp/cats-v-dogs')\n",
        "    os.mkdir('/tmp/cats-v-dogs/training')\n",
        "    os.mkdir('/tmp/cats-v-dogs/testing')\n",
        "    os.mkdir('/tmp/cats-v-dogs/training/cats')\n",
        "    os.mkdir('/tmp/cats-v-dogs/training/dogs')\n",
        "    os.mkdir('/tmp/cats-v-dogs/testing/cats')\n",
        "    os.mkdir('/tmp/cats-v-dogs/testing/dogs')\n",
        "except OSError:\n",
        "    pass\n"
      ],
      "metadata": {
        "id": "OZ4a7bUtE-Fo"
      },
      "execution_count": 17,
      "outputs": []
    },
    {
      "cell_type": "code",
      "source": [
        "def split_data(SOURCE, TRAINING, TESTING, SPLIT_SIZE):\n",
        "    files = []\n",
        "    for filename in os.listdir(SOURCE):\n",
        "        file = SOURCE + filename\n",
        "        if os.path.getsize(file) > 0:\n",
        "            files.append(filename)\n",
        "        else:\n",
        "            print(filename + \"is zero length, so ignoring.\")\n",
        "    training_length = int(len(files) * SPLIT_SIZE)\n",
        "    testing_length = int(len(files) - training_length)\n",
        "    shuffled_set = random.sample(files, len(files))\n",
        "    training_set = shuffled_set[0:training_length]\n",
        "    testing_set = shuffled_set[-testing_length:]\n",
        "\n",
        "    for filename in training_set:\n",
        "        this_file = SOURCE + filename\n",
        "        destination = TRAINING + filename\n",
        "        copyfile(this_file, destination)\n",
        "\n",
        "    for filename in testing_set:\n",
        "        this_file = SOURCE + filename\n",
        "        destination = TESTING + filename\n",
        "        copyfile(this_file, destination)\n",
        "\n",
        "CAT_SOURCE_DIR = \"/tmp/PetImages/Cat/\"\n",
        "TRAINING_CATS_DIR = \"/tmp/cats-v-dogs/training/cats/\"\n",
        "TESTING_CATS_DIR = \"/tmp/cats-v-dogs/testing/cats/\"\n",
        "DOG_SOURCE_DIR = \"/tmp/PetImages/Dog/\"\n",
        "TRAINING_DOGS_DIR = \"/tmp/cats-v-dogs/training/dogs/\"\n",
        "TESTING_DOGS_DIR = \"/tmp/cats-v-dogs/testing/dogs/\"\n",
        "\n",
        "split_size = .9\n",
        "split_data(CAT_SOURCE_DIR, TRAINING_CATS_DIR, TESTING_CATS_DIR, split_size)\n",
        "split_data(DOG_SOURCE_DIR, TRAINING_DOGS_DIR, TESTING_DOGS_DIR, split_size)"
      ],
      "metadata": {
        "colab": {
          "base_uri": "https://localhost:8080/",
          "height": 0
        },
        "id": "F97zosoxF9io",
        "outputId": "5a9769ba-0fdd-4897-fa74-bfa1dddcfcad"
      },
      "execution_count": 18,
      "outputs": [
        {
          "output_type": "stream",
          "name": "stdout",
          "text": [
            "666.jpgis zero length, so ignoring.\n",
            "11702.jpgis zero length, so ignoring.\n"
          ]
        }
      ]
    },
    {
      "cell_type": "code",
      "source": [
        "print(len(os.listdir(\"/tmp/cats-v-dogs/training/cats/\")))\n",
        "print(len(os.listdir(\"/tmp/cats-v-dogs/training/dogs/\")))\n",
        "print(len(os.listdir(\"/tmp/cats-v-dogs/testing/cats/\")))\n",
        "print(len(os.listdir(\"/tmp/cats-v-dogs/testing/dogs/\")))"
      ],
      "metadata": {
        "colab": {
          "base_uri": "https://localhost:8080/",
          "height": 0
        },
        "id": "FwsxZXpNL1vA",
        "outputId": "f3899091-fdd2-48a2-b508-f7eeeb329e24"
      },
      "execution_count": 19,
      "outputs": [
        {
          "output_type": "stream",
          "name": "stdout",
          "text": [
            "12500\n",
            "12499\n",
            "4256\n",
            "4280\n"
          ]
        }
      ]
    },
    {
      "cell_type": "code",
      "source": [
        "model = tf.keras.models.Sequential([\n",
        "    tf.keras.layers.Conv2D(16, (3,3), activation='relu', input_shape=(150,150,3)),\n",
        "    tf.keras.layers.MaxPooling2D(2,2),\n",
        "    tf.keras.layers.Conv2D(32, (3,2), activation='relu'),\n",
        "    tf.keras.layers.MaxPooling2D(2,2),\n",
        "    tf.keras.layers.Conv2D(64,(3,3), activation='relu'),\n",
        "    tf.keras.layers.MaxPooling2D(2,2),\n",
        "    tf.keras.layers.Flatten(),\n",
        "    tf.keras.layers.Dense(512, activation='relu'),\n",
        "    tf.keras.layers.Dense(1,activation='sigmoid')\n",
        "])\n",
        "\n",
        "model.compile(optimizer=RMSprop(learning_rate=0.001), loss='binary_crossentropy', metrics=['acc'])"
      ],
      "metadata": {
        "id": "nKYHRhXxRYI3"
      },
      "execution_count": 26,
      "outputs": []
    },
    {
      "cell_type": "code",
      "source": [
        "from tensorflow.python.ops.variables import validate_synchronization_aggregation_trainable\n",
        "TRAINING_DIR = '/tmp/cats-v-dogs/training/'\n",
        "train_datagen = ImageDataGenerator(rescale=1.0/255)\n",
        "train_generator = train_datagen.flow_from_directory(TRAINING_DIR,\n",
        "                                                    batch_size=250,\n",
        "                                                    class_mode='binary',\n",
        "                                                    target_size=(150,150))\n",
        "\n",
        "VALIDATION_DIR = '/tmp/cats-v-dogs/testing/'\n",
        "validation_datagen = ImageDataGenerator(rescale=1.0/255.)\n",
        "validate_generator = validation_datagen.flow_from_directory(VALIDATION_DIR,\n",
        "                                                            batch_size=250,\n",
        "                                                            class_mode='binary',\n",
        "                                                            target_size=(150,150))"
      ],
      "metadata": {
        "colab": {
          "base_uri": "https://localhost:8080/"
        },
        "id": "Ip9W-wSzkDeK",
        "outputId": "68b6acec-72a4-47f3-993b-b44976bd1a12"
      },
      "execution_count": 27,
      "outputs": [
        {
          "output_type": "stream",
          "name": "stdout",
          "text": [
            "Found 24997 images belonging to 2 classes.\n",
            "Found 8535 images belonging to 2 classes.\n"
          ]
        }
      ]
    },
    {
      "cell_type": "code",
      "source": [
        "history = model.fit(train_generator, epochs=15, steps_per_epoch=90,validation_data=validate_generator, validation_steps=6)"
      ],
      "metadata": {
        "colab": {
          "base_uri": "https://localhost:8080/"
        },
        "id": "FMxVkKQBlfv6",
        "outputId": "844d881a-acfc-4f8e-db74-878a2a1699d6"
      },
      "execution_count": 28,
      "outputs": [
        {
          "metadata": {
            "tags": null
          },
          "name": "stdout",
          "output_type": "stream",
          "text": [
            "Epoch 1/15\n",
            "26/90 [=======>......................] - ETA: 6:53 - loss: 0.7280 - acc: 0.5193"
          ]
        },
        {
          "metadata": {
            "tags": null
          },
          "name": "stderr",
          "output_type": "stream",
          "text": [
            "/usr/local/lib/python3.10/dist-packages/PIL/TiffImagePlugin.py:858: UserWarning: Truncated File Read\n",
            "  warnings.warn(str(msg))\n"
          ]
        },
        {
          "output_type": "stream",
          "name": "stdout",
          "text": [
            "90/90 [==============================] - 608s 7s/step - loss: 0.6756 - acc: 0.5754 - val_loss: 0.7105 - val_acc: 0.5613\n",
            "Epoch 2/15\n",
            "90/90 [==============================] - 692s 8s/step - loss: 0.5832 - acc: 0.6899 - val_loss: 0.5173 - val_acc: 0.7453\n",
            "Epoch 3/15\n",
            "90/90 [==============================] - 615s 7s/step - loss: 0.5317 - acc: 0.7327 - val_loss: 0.4778 - val_acc: 0.7600\n",
            "Epoch 4/15\n",
            "90/90 [==============================] - 603s 7s/step - loss: 0.5047 - acc: 0.7475 - val_loss: 0.4519 - val_acc: 0.7833\n",
            "Epoch 5/15\n",
            "90/90 [==============================] - 608s 7s/step - loss: 0.4752 - acc: 0.7723 - val_loss: 0.4070 - val_acc: 0.8100\n",
            "Epoch 6/15\n",
            "90/90 [==============================] - 605s 7s/step - loss: 0.4451 - acc: 0.7906 - val_loss: 0.3830 - val_acc: 0.8293\n",
            "Epoch 7/15\n",
            "90/90 [==============================] - 610s 7s/step - loss: 0.4206 - acc: 0.8030 - val_loss: 0.3890 - val_acc: 0.8260\n",
            "Epoch 8/15\n",
            "90/90 [==============================] - 591s 7s/step - loss: 0.3987 - acc: 0.8148 - val_loss: 0.4050 - val_acc: 0.8093\n",
            "Epoch 9/15\n",
            "90/90 [==============================] - 598s 7s/step - loss: 0.3724 - acc: 0.8334 - val_loss: 0.4715 - val_acc: 0.7347\n",
            "Epoch 10/15\n",
            "90/90 [==============================] - 598s 7s/step - loss: 0.3457 - acc: 0.8464 - val_loss: 0.6326 - val_acc: 0.6620\n",
            "Epoch 11/15\n",
            "90/90 [==============================] - 608s 7s/step - loss: 0.3208 - acc: 0.8593 - val_loss: 0.2597 - val_acc: 0.8980\n",
            "Epoch 12/15\n",
            "90/90 [==============================] - 609s 7s/step - loss: 0.2923 - acc: 0.8743 - val_loss: 0.2069 - val_acc: 0.9233\n",
            "Epoch 13/15\n",
            "90/90 [==============================] - 608s 7s/step - loss: 0.2551 - acc: 0.8936 - val_loss: 0.1802 - val_acc: 0.9347\n",
            "Epoch 14/15\n",
            "90/90 [==============================] - 593s 7s/step - loss: 0.2305 - acc: 0.9031 - val_loss: 0.1399 - val_acc: 0.9540\n",
            "Epoch 15/15\n",
            "90/90 [==============================] - 589s 7s/step - loss: 0.1858 - acc: 0.9268 - val_loss: 0.1055 - val_acc: 0.9667\n"
          ]
        }
      ]
    },
    {
      "cell_type": "code",
      "source": [
        "%matplotlib inline\n",
        "import matplotlib.image as mpimg\n",
        "import matplotlib.pyplot as plt"
      ],
      "metadata": {
        "id": "s3yPLxoNpeTL"
      },
      "execution_count": 29,
      "outputs": []
    },
    {
      "cell_type": "code",
      "source": [
        "acc = history.history['acc']\n",
        "val_acc = history.history['val_acc']\n",
        "loss = history.history['loss']\n",
        "val_loss = history.history['val_loss']\n",
        "\n",
        "epochs = range(len(acc))\n",
        "\n",
        "plt.plot(epochs, acc, 'r', \"Training Accuracy\")\n",
        "plt.plot(epochs, val_acc, 'b', \"Validation Accuracy\")\n",
        "plt.title('Training and validation accuracy')\n",
        "plt.figure()\n",
        "\n",
        "\n",
        "plt.plot(epochs, loss, 'r', \"Training Loss\")\n",
        "plt.plot(epochs, val_loss, 'b', \"Validation loss\")\n",
        "plt.figure()\n"
      ],
      "metadata": {
        "colab": {
          "base_uri": "https://localhost:8080/",
          "height": 900
        },
        "id": "BFdslJuapu4N",
        "outputId": "79c87ace-71aa-4791-90e0-1f58c5bf93fb"
      },
      "execution_count": 30,
      "outputs": [
        {
          "output_type": "execute_result",
          "data": {
            "text/plain": [
              "<Figure size 640x480 with 0 Axes>"
            ]
          },
          "metadata": {},
          "execution_count": 30
        },
        {
          "output_type": "display_data",
          "data": {
            "text/plain": [
              "<Figure size 640x480 with 1 Axes>"
            ],
            "image/png": "[encoded data removed]"
          },
          "metadata": {}
        },
        {
          "output_type": "display_data",
          "data": {
            "text/plain": [
              "<Figure size 640x480 with 1 Axes>"
            ],
            "image/png": "[encoded data removed]"
          },
          "metadata": {}
        },
        {
          "output_type": "display_data",
          "data": {
            "text/plain": [
              "<Figure size 640x480 with 0 Axes>"
            ]
          },
          "metadata": {}
        }
      ]
    },
    {
      "cell_type": "code",
      "source": [],
      "metadata": {
        "id": "B4XB-NxdrT_o"
      },
      "execution_count": null,
      "outputs": []
    }
  ]
}